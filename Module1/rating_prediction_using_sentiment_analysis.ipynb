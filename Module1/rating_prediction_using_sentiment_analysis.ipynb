{
  "cells": [
    {
      "metadata": {
        "_uuid": "8f2839f25d086af736a60e9eeb907d3b93b6e0e5",
        "_cell_guid": "b1076dfc-b9ad-4769-8c92-a6c4dae69d19",
        "trusted": true
      },
      "cell_type": "code",
      "source": "# This Python 3 environment comes with many helpful analytics libraries installed\n# It is defined by the kaggle/python docker image: https://github.com/kaggle/docker-python\n# For example, here's several helpful packages to load in \n\nimport numpy as np # linear algebra\nimport pandas as pd # data processing, CSV file I/O (e.g. pd.read_csv)\n\n# Input data files are available in the \"../input/\" directory.\n# For example, running this (by clicking run or pressing Shift+Enter) will list the files in the input directory\n\nimport os\nprint(os.listdir(\"../input\"))\n\n# Any results you write to the current directory are saved as output.",
      "execution_count": null,
      "outputs": []
    },
    {
      "metadata": {
        "_cell_guid": "79c7e3d0-c299-4dcb-8224-4455121ee9b0",
        "_uuid": "d629ff2d2480ee46fbb7e2d37f6b5fab8052498a",
        "trusted": true
      },
      "cell_type": "code",
      "source": "import numpy as np\nimport pandas as pd",
      "execution_count": null,
      "outputs": []
    },
    {
      "metadata": {
        "trusted": true,
        "_uuid": "d523b12068f7cdddace838e75cf886b08dc28ce7"
      },
      "cell_type": "code",
      "source": "dataset = pd.read_csv('../input/airbnb-open-data-in-nyc/reviews_detail.csv')",
      "execution_count": null,
      "outputs": []
    },
    {
      "metadata": {
        "trusted": true,
        "_uuid": "25d5f926092765abc07b4a773b603a49cbce1176"
      },
      "cell_type": "code",
      "source": "print(dataset.head())\ndataset.info()",
      "execution_count": null,
      "outputs": []
    },
    {
      "metadata": {
        "trusted": true,
        "_uuid": "e3b4afd559206922747824869b1827516a2cac8c"
      },
      "cell_type": "code",
      "source": "dataset=dataset.dropna()",
      "execution_count": null,
      "outputs": []
    },
    {
      "metadata": {
        "trusted": true,
        "_uuid": "85400a32b6c267d6f58346ece328f1d35f90350b"
      },
      "cell_type": "code",
      "source": "dataset=dataset.drop(['id','reviewer_name','date','comments'],axis=1)\ndataset.info()",
      "execution_count": null,
      "outputs": []
    },
    {
      "metadata": {
        "trusted": true,
        "_uuid": "f37a2b9d15f9c4d6864c6dadca3657d41c74039b"
      },
      "cell_type": "code",
      "source": "pos_neg_data1 = pd.read_csv('../input/pos-neg/generated_rating.csv')\npos_neg_data1.info()",
      "execution_count": null,
      "outputs": []
    },
    {
      "metadata": {
        "trusted": true,
        "_uuid": "79731988843bea6448f9d1a1c1040a6a09b83595"
      },
      "cell_type": "code",
      "source": "pos_neg_data2 = pd.read_csv('../input/airbnbmiddle/generated_rating3.csv')\npos_neg_data2.info()",
      "execution_count": null,
      "outputs": []
    },
    {
      "metadata": {
        "trusted": true,
        "_uuid": "9a212087e892acbc8a67c600f94a92c6c594b150"
      },
      "cell_type": "code",
      "source": "pos_neg_data3 = pd.read_csv('../input/pos-neg/generated_rating2.csv')\npos_neg_data3.info()",
      "execution_count": null,
      "outputs": []
    },
    {
      "metadata": {
        "trusted": true,
        "_uuid": "f50f4224e0d8e07c8159a14b1e4b18ed5fef016a"
      },
      "cell_type": "code",
      "source": "print(pos_neg_data1.head())\nprint(pos_neg_data2.head())",
      "execution_count": null,
      "outputs": []
    },
    {
      "metadata": {
        "trusted": true,
        "_uuid": "89c43589cf3d673ead52d60e117fecabf2d846ff"
      },
      "cell_type": "code",
      "source": "frames = [pos_neg_data1, pos_neg_data2,pos_neg_data3]\n\ninput_dataset = pd.concat(frames,ignore_index=True)\ninput_dataset.info()",
      "execution_count": null,
      "outputs": []
    },
    {
      "metadata": {
        "trusted": true,
        "_uuid": "d742024642ed062c65fe8d101b03e73c22315b7c"
      },
      "cell_type": "code",
      "source": "input_dataset.head()",
      "execution_count": null,
      "outputs": []
    },
    {
      "metadata": {
        "trusted": true,
        "_uuid": "d9fd595f9c4217dd5fa751b7d154827dffef2a8e"
      },
      "cell_type": "code",
      "source": "dataset.reset_index(drop=True,inplace=True)\ndataset.info()\ninput_dataset.reset_index(drop=True,inplace=True)\ninput_dataset.info()\nrating_input_data =pd.concat([dataset, input_dataset], axis=1)\nrating_input_data.head()\nrating_input_data.info()",
      "execution_count": null,
      "outputs": []
    },
    {
      "metadata": {
        "trusted": true,
        "_uuid": "c43cfd2f5692923a4d2358a13344a4a3a9da465a"
      },
      "cell_type": "code",
      "source": "print(rating_input_data.head(20))",
      "execution_count": null,
      "outputs": []
    },
    {
      "metadata": {
        "trusted": true,
        "_uuid": "edd7af39d49fcd14dda352e3ab65af62db8a7b65"
      },
      "cell_type": "code",
      "source": "import matplotlib.pyplot as plt\n#ignored values between 0 to 1 as it is negligible negative component\nplt.hist(rating_input_data['Negative'],bins=[5,10,15,20,25,50,100])\nplt.ylabel('No of times')\nplt.show()",
      "execution_count": null,
      "outputs": []
    },
    {
      "metadata": {
        "trusted": true,
        "_uuid": "d7226b725f1710ee5422372b7a8b62ec8ed1969f"
      },
      "cell_type": "code",
      "source": "plt.hist(rating_input_data['Positive'],bins=[0,10,20,30,40,50,60,70,80,90,100])\nplt.ylabel('No of times')\nplt.show()",
      "execution_count": null,
      "outputs": []
    },
    {
      "metadata": {
        "trusted": true,
        "_uuid": "b0b7154f3ec6054e8d33b5ed5a2e796cbb8f6c33"
      },
      "cell_type": "code",
      "source": "def compute_rating(pos,neg):\n    rating = 0\n    if pos > 30:\n        rating =5\n    elif pos >20:\n        rating =4\n    elif pos >10:\n        rating =3\n    elif pos >0:\n        rating =2\n        \n    penalty=0\n    if neg>5 and neg<=20:\n        penalty=1\n    elif neg>20 and neg<=100:\n        penalty=2\n    \n    rating= rating-penalty\n    if rating<0:\n        rating=0\n    return rating\n",
      "execution_count": null,
      "outputs": []
    },
    {
      "metadata": {
        "trusted": true,
        "_uuid": "1e804286fff6fc4d1c92367a1d6e204f46e82130"
      },
      "cell_type": "code",
      "source": "def predict_rating(df):\n    rating_array = []\n    for index, row in df.iterrows():\n        rating=compute_rating(row['Positive'],row['Negative'])\n        rating_array.append(rating)\n    return rating_array\n",
      "execution_count": null,
      "outputs": []
    },
    {
      "metadata": {
        "trusted": true,
        "_uuid": "eb8d2fd0374a93dfee84790edd6e6ca208c6a872"
      },
      "cell_type": "code",
      "source": "rating_array =predict_rating(rating_input_data)",
      "execution_count": null,
      "outputs": []
    },
    {
      "metadata": {
        "trusted": true,
        "_uuid": "7586b3e5577d84eebe0db72ad09dd3f2ce788845"
      },
      "cell_type": "code",
      "source": "print(len(rating_array))\nrating_array=np.array(rating_array)",
      "execution_count": null,
      "outputs": []
    },
    {
      "metadata": {
        "trusted": true,
        "_uuid": "61797d45c179987a7ad1bb833e8f4a9bdae8fbc4"
      },
      "cell_type": "code",
      "source": "output_df = pd.DataFrame({\n    'listing_id':rating_input_data['listing_id'],\n    'reviewer_id':rating_input_data['reviewer_id'],\n    'rating':rating_array[0:800995], \n})",
      "execution_count": null,
      "outputs": []
    },
    {
      "metadata": {
        "trusted": true,
        "_uuid": "e870b5a6c23041fa7726d5a0ffe46c66a0acb6f8"
      },
      "cell_type": "code",
      "source": "\noutput_df.to_csv('rating_prediction_full.csv',index=False)\noutput_df.head()",
      "execution_count": null,
      "outputs": []
    },
    {
      "metadata": {
        "trusted": true,
        "_uuid": "56e9141fca0b6b5a960e8b94b2e5f2f0c5b6d230"
      },
      "cell_type": "code",
      "source": "",
      "execution_count": null,
      "outputs": []
    }
  ],
  "metadata": {
    "kernelspec": {
      "display_name": "Python 3",
      "language": "python",
      "name": "python3"
    },
    "language_info": {
      "name": "python",
      "version": "3.6.6",
      "mimetype": "text/x-python",
      "codemirror_mode": {
        "name": "ipython",
        "version": 3
      },
      "pygments_lexer": "ipython3",
      "nbconvert_exporter": "python",
      "file_extension": ".py"
    }
  },
  "nbformat": 4,
  "nbformat_minor": 1
}