{
 "cells": [
  {
   "cell_type": "code",
   "execution_count": null,
   "metadata": {
    "_cell_guid": "b1076dfc-b9ad-4769-8c92-a6c4dae69d19",
    "_uuid": "8f2839f25d086af736a60e9eeb907d3b93b6e0e5"
   },
   "outputs": [],
   "source": [
    "# This Python 3 environment comes with many helpful analytics libraries installed\n",
    "# It is defined by the kaggle/python docker image: https://github.com/kaggle/docker-python\n",
    "# For example, here's several helpful packages to load in \n",
    "\n",
    "import numpy as np # linear algebra\n",
    "import pandas as pd # data processing, CSV file I/O (e.g. pd.read_csv)\n",
    "\n",
    "# Input data files are available in the \"../input/\" directory.\n",
    "# For example, running this (by clicking run or pressing Shift+Enter) will list the files in the input directory\n",
    "\n",
    "import os\n",
    "print(os.listdir(\"../input\"))\n",
    "\n",
    "# Any results you write to the current directory are saved as output."
   ]
  },
  {
   "cell_type": "code",
   "execution_count": null,
   "metadata": {
    "_cell_guid": "79c7e3d0-c299-4dcb-8224-4455121ee9b0",
    "_uuid": "d629ff2d2480ee46fbb7e2d37f6b5fab8052498a"
   },
   "outputs": [],
   "source": [
    "import numpy as np\n",
    "import pandas as pd"
   ]
  },
  {
   "cell_type": "code",
   "execution_count": null,
   "metadata": {
    "_uuid": "d523b12068f7cdddace838e75cf886b08dc28ce7"
   },
   "outputs": [],
   "source": [
    "dataset = pd.read_csv('../input/airbnb-open-data-in-nyc/reviews_detail.csv')"
   ]
  },
  {
   "cell_type": "code",
   "execution_count": null,
   "metadata": {
    "_uuid": "25d5f926092765abc07b4a773b603a49cbce1176"
   },
   "outputs": [],
   "source": [
    "print(dataset.head())\n",
    "dataset.info()"
   ]
  },
  {
   "cell_type": "code",
   "execution_count": null,
   "metadata": {
    "_uuid": "e3b4afd559206922747824869b1827516a2cac8c"
   },
   "outputs": [],
   "source": [
    "dataset=dataset.dropna()"
   ]
  },
  {
   "cell_type": "code",
   "execution_count": null,
   "metadata": {
    "_uuid": "85400a32b6c267d6f58346ece328f1d35f90350b"
   },
   "outputs": [],
   "source": [
    "dataset=dataset.drop(['id','reviewer_name','date','comments'],axis=1)\n",
    "dataset.info()"
   ]
  },
  {
   "cell_type": "code",
   "execution_count": null,
   "metadata": {
    "_uuid": "f37a2b9d15f9c4d6864c6dadca3657d41c74039b"
   },
   "outputs": [],
   "source": [
    "pos_neg_data1 = pd.read_csv('../input/pos-neg/generated_rating.csv')\n",
    "pos_neg_data1.info()"
   ]
  },
  {
   "cell_type": "code",
   "execution_count": null,
   "metadata": {
    "_uuid": "79731988843bea6448f9d1a1c1040a6a09b83595"
   },
   "outputs": [],
   "source": [
    "pos_neg_data2 = pd.read_csv('../input/airbnbmiddle/generated_rating3.csv')\n",
    "pos_neg_data2.info()"
   ]
  },
  {
   "cell_type": "code",
   "execution_count": null,
   "metadata": {
    "_uuid": "9a212087e892acbc8a67c600f94a92c6c594b150"
   },
   "outputs": [],
   "source": [
    "pos_neg_data3 = pd.read_csv('../input/pos-neg/generated_rating2.csv')\n",
    "pos_neg_data3.info()"
   ]
  },
  {
   "cell_type": "code",
   "execution_count": null,
   "metadata": {
    "_uuid": "f50f4224e0d8e07c8159a14b1e4b18ed5fef016a"
   },
   "outputs": [],
   "source": [
    "print(pos_neg_data1.head())\n",
    "print(pos_neg_data2.head())"
   ]
  },
  {
   "cell_type": "code",
   "execution_count": null,
   "metadata": {
    "_uuid": "89c43589cf3d673ead52d60e117fecabf2d846ff"
   },
   "outputs": [],
   "source": [
    "frames = [pos_neg_data1, pos_neg_data2,pos_neg_data3]\n",
    "\n",
    "input_dataset = pd.concat(frames,ignore_index=True)\n",
    "input_dataset.info()"
   ]
  },
  {
   "cell_type": "code",
   "execution_count": null,
   "metadata": {
    "_uuid": "d742024642ed062c65fe8d101b03e73c22315b7c"
   },
   "outputs": [],
   "source": [
    "input_dataset.head()"
   ]
  },
  {
   "cell_type": "code",
   "execution_count": null,
   "metadata": {
    "_uuid": "d9fd595f9c4217dd5fa751b7d154827dffef2a8e"
   },
   "outputs": [],
   "source": [
    "dataset.reset_index(drop=True,inplace=True)\n",
    "dataset.info()\n",
    "input_dataset.reset_index(drop=True,inplace=True)\n",
    "input_dataset.info()\n",
    "rating_input_data =pd.concat([dataset, input_dataset], axis=1)\n",
    "rating_input_data.head()\n",
    "rating_input_data.info()"
   ]
  },
  {
   "cell_type": "code",
   "execution_count": null,
   "metadata": {
    "_uuid": "c43cfd2f5692923a4d2358a13344a4a3a9da465a"
   },
   "outputs": [],
   "source": [
    "print(rating_input_data.head(20))"
   ]
  },
  {
   "cell_type": "code",
   "execution_count": null,
   "metadata": {
    "_uuid": "edd7af39d49fcd14dda352e3ab65af62db8a7b65"
   },
   "outputs": [],
   "source": [
    "import matplotlib.pyplot as plt\n",
    "#ignored values between 0 to 1 as it is negligible negative component\n",
    "plt.hist(rating_input_data['Negative'],bins=[5,10,15,20,25,50,100])\n",
    "plt.ylabel('No of times')\n",
    "plt.show()"
   ]
  },
  {
   "cell_type": "code",
   "execution_count": null,
   "metadata": {
    "_uuid": "d7226b725f1710ee5422372b7a8b62ec8ed1969f"
   },
   "outputs": [],
   "source": [
    "plt.hist(rating_input_data['Positive'],bins=[0,10,20,30,40,50,60,70,80,90,100])\n",
    "plt.ylabel('No of times')\n",
    "plt.show()"
   ]
  },
  {
   "cell_type": "code",
   "execution_count": null,
   "metadata": {
    "_uuid": "b0b7154f3ec6054e8d33b5ed5a2e796cbb8f6c33"
   },
   "outputs": [],
   "source": [
    "def compute_rating(pos,neg):\n",
    "    rating = 0\n",
    "    if pos > 30:\n",
    "        rating =5\n",
    "    elif pos >20:\n",
    "        rating =4\n",
    "    elif pos >10:\n",
    "        rating =3\n",
    "    elif pos >0:\n",
    "        rating =2\n",
    "        \n",
    "    penalty=0\n",
    "    if neg>5 and neg<=20:\n",
    "        penalty=1\n",
    "    elif neg>20 and neg<=100:\n",
    "        penalty=2\n",
    "    \n",
    "    rating= rating-penalty\n",
    "    if rating<0:\n",
    "        rating=0\n",
    "    return rating\n"
   ]
  },
  {
   "cell_type": "code",
   "execution_count": null,
   "metadata": {
    "_uuid": "1e804286fff6fc4d1c92367a1d6e204f46e82130"
   },
   "outputs": [],
   "source": [
    "def predict_rating(df):\n",
    "    rating_array = []\n",
    "    for index, row in df.iterrows():\n",
    "        rating=compute_rating(row['Positive'],row['Negative'])\n",
    "        rating_array.append(rating)\n",
    "    return rating_array\n"
   ]
  },
  {
   "cell_type": "code",
   "execution_count": null,
   "metadata": {
    "_uuid": "eb8d2fd0374a93dfee84790edd6e6ca208c6a872"
   },
   "outputs": [],
   "source": [
    "rating_array =predict_rating(rating_input_data)"
   ]
  },
  {
   "cell_type": "code",
   "execution_count": null,
   "metadata": {
    "_uuid": "7586b3e5577d84eebe0db72ad09dd3f2ce788845"
   },
   "outputs": [],
   "source": [
    "print(len(rating_array))\n",
    "rating_array=np.array(rating_array)"
   ]
  },
  {
   "cell_type": "code",
   "execution_count": null,
   "metadata": {
    "_uuid": "61797d45c179987a7ad1bb833e8f4a9bdae8fbc4"
   },
   "outputs": [],
   "source": [
    "output_df = pd.DataFrame({\n",
    "    'listing_id':rating_input_data['listing_id'],\n",
    "    'reviewer_id':rating_input_data['reviewer_id'],\n",
    "    'rating':rating_array[0:800995], \n",
    "})"
   ]
  },
  {
   "cell_type": "code",
   "execution_count": null,
   "metadata": {
    "_uuid": "e870b5a6c23041fa7726d5a0ffe46c66a0acb6f8"
   },
   "outputs": [],
   "source": [
    "\n",
    "output_df.to_csv('rating_prediction_full.csv',index=False)\n",
    "output_df.head()"
   ]
  },
  {
   "cell_type": "code",
   "execution_count": null,
   "metadata": {
    "_uuid": "56e9141fca0b6b5a960e8b94b2e5f2f0c5b6d230"
   },
   "outputs": [],
   "source": []
  }
 ],
 "metadata": {
  "kernelspec": {
   "display_name": "Python 3",
   "language": "python",
   "name": "python3"
  },
  "language_info": {
   "codemirror_mode": {
    "name": "ipython",
    "version": 3
   },
   "file_extension": ".py",
   "mimetype": "text/x-python",
   "name": "python",
   "nbconvert_exporter": "python",
   "pygments_lexer": "ipython3",
   "version": "3.6.5"
  }
 },
 "nbformat": 4,
 "nbformat_minor": 1
}
