{
 "cells": [
  {
   "cell_type": "code",
   "execution_count": 5,
   "metadata": {},
   "outputs": [],
   "source": [
    "import numpy as np\n",
    "import pandas as pd\n",
    "import matplotlib.pyplot as plt"
   ]
  },
  {
   "cell_type": "code",
   "execution_count": 3,
   "metadata": {},
   "outputs": [],
   "source": [
    "clustering_rating = pd.read_csv('predicted_rating_by_clustering.csv')\n",
    "sentiment_analysis_rating = pd.read_csv('rating_prediction_full.csv')\n"
   ]
  },
  {
   "cell_type": "code",
   "execution_count": 26,
   "metadata": {},
   "outputs": [],
   "source": [
    "X_sentiment_user = range(0,20)\n",
    "Y_sentiment_rating = sentiment_analysis_rating['rating'].iloc[0:20].values\n",
    "X_clustering_user = range(0,20)\n",
    "Y_clustering_rating = clustering_rating['rating'].iloc[0:20].values\n"
   ]
  },
  {
   "cell_type": "code",
   "execution_count": 43,
   "metadata": {},
   "outputs": [
    {
     "data": {
      "image/png": "[encoded data removed]",
      "text/plain": [
       "<Figure size 1440x288 with 1 Axes>"
      ]
     },
     "metadata": {},
     "output_type": "display_data"
    }
   ],
   "source": [
    "plt.figure(figsize=(20,4))\n",
    "X = np.arange(20)\n",
    "plt.bar(X + 0.00, Y_sentiment_rating, color = 'r', width = 0.25,label=\"sentiment rating\")\n",
    "plt.bar(X + 0.25, Y_clustering_rating, color = 'g', width = 0.25,label=\"clustering rating\")\n",
    "\n",
    "plt.show()"
   ]
  },
  {
   "cell_type": "code",
   "execution_count": 32,
   "metadata": {},
   "outputs": [
    {
     "data": {
      "image/png": "[encoded data removed]",
      "text/plain": [
       "<Figure size 432x288 with 1 Axes>"
      ]
     },
     "metadata": {},
     "output_type": "display_data"
    }
   ],
   "source": [
    "import matplotlib.pyplot as plt\n",
    "#distribution of sentiment analysis rating\n",
    "plt.hist(sentiment_analysis_rating['rating'],bins=[1,2,3,4,5])\n",
    "plt.ylabel('No of times')\n",
    "plt.show()"
   ]
  },
  {
   "cell_type": "code",
   "execution_count": 33,
   "metadata": {},
   "outputs": [],
   "source": [
    "# test data to evaluation\n",
    "full_dataset = pd.read_csv('airbnb/reviews_detail.csv')\n",
    "full_dataset=full_dataset.dropna()"
   ]
  },
  {
   "cell_type": "code",
   "execution_count": 41,
   "metadata": {},
   "outputs": [],
   "source": [
    "test_comments = pd.DataFrame({\n",
    "    'review_comment':full_dataset['comments'],\n",
    "    'clustering_rating':clustering_rating['rating'],\n",
    "    'sentiment_rating':sentiment_analysis_rating['rating']\n",
    "})"
   ]
  },
  {
   "cell_type": "code",
   "execution_count": 42,
   "metadata": {},
   "outputs": [],
   "source": [
    "test_comments.iloc[0:1000].to_csv(\"test_data.csv\",index=False)"
   ]
  },
  {
   "cell_type": "code",
   "execution_count": null,
   "metadata": {},
   "outputs": [],
   "source": []
  }
 ],
 "metadata": {
  "kernelspec": {
   "display_name": "Python 3",
   "language": "python",
   "name": "python3"
  },
  "language_info": {
   "codemirror_mode": {
    "name": "ipython",
    "version": 3
   },
   "file_extension": ".py",
   "mimetype": "text/x-python",
   "name": "python",
   "nbconvert_exporter": "python",
   "pygments_lexer": "ipython3",
   "version": "3.6.5"
  }
 },
 "nbformat": 4,
 "nbformat_minor": 2
}
