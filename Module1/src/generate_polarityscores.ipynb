{
 "cells": [
  {
   "cell_type": "code",
   "execution_count": 36,
   "metadata": {
    "_cell_guid": "b1076dfc-b9ad-4769-8c92-a6c4dae69d19",
    "_uuid": "8f2839f25d086af736a60e9eeb907d3b93b6e0e5"
   },
   "outputs": [
    {
     "name": "stdout",
     "output_type": "stream",
     "text": [
      "['reviews_detail.csv', 'neighbourhoods.csv', 'listings_detail.csv', 'calendar_detail.csv', 'listings_summary.csv', 'neighbourhoods.geojson', 'reviews_summary.csv']\n"
     ]
    }
   ],
   "source": [
    "# This Python 3 environment comes with many helpful analytics libraries installed\n",
    "# It is defined by the kaggle/python docker image: https://github.com/kaggle/docker-python\n",
    "# For example, here's several helpful packages to load in \n",
    "\n",
    "import numpy as np # linear algebra\n",
    "import pandas as pd # data processing, CSV file I/O (e.g. pd.read_csv)\n",
    "\n",
    "# Input data files are available in the \"../input/\" directory.\n",
    "# For example, running this (by clicking run or pressing Shift+Enter) will list the files in the input directory\n",
    "\n",
    "import os\n",
    "print(os.listdir(\"../input\"))\n",
    "\n",
    "# Any results you write to the current directory are saved as output."
   ]
  },
  {
   "cell_type": "code",
   "execution_count": 37,
   "metadata": {
    "_cell_guid": "79c7e3d0-c299-4dcb-8224-4455121ee9b0",
    "_uuid": "d629ff2d2480ee46fbb7e2d37f6b5fab8052498a"
   },
   "outputs": [],
   "source": [
    "import numpy as np\n",
    "import pandas as pd"
   ]
  },
  {
   "cell_type": "code",
   "execution_count": 38,
   "metadata": {
    "_uuid": "d523b12068f7cdddace838e75cf886b08dc28ce7"
   },
   "outputs": [],
   "source": [
    "dataset = pd.read_csv('../input/reviews_detail.csv')"
   ]
  },
  {
   "cell_type": "code",
   "execution_count": 39,
   "metadata": {
    "_uuid": "25d5f926092765abc07b4a773b603a49cbce1176",
    "scrolled": false
   },
   "outputs": [
    {
     "name": "stdout",
     "output_type": "stream",
     "text": [
      "   listing_id                        ...                                                                   comments\n",
      "0     9452127                        ...                          Great place. Helena was prompt to reply and ve...\n",
      "1     9452127                        ...                          We had previously stayed at the apartment over...\n",
      "2     9452127                        ...                          Helena was a great host and extremely accommod...\n",
      "3     9452127                        ...                          Helena was extremely accessible throughout the...\n",
      "4     9452127                        ...                          Awesome place! Looks just as in photos. Plenty...\n",
      "\n",
      "[5 rows x 6 columns]\n",
      "<class 'pandas.core.frame.DataFrame'>\n",
      "RangeIndex: 801784 entries, 0 to 801783\n",
      "Data columns (total 6 columns):\n",
      "listing_id       801784 non-null int64\n",
      "id               801784 non-null int64\n",
      "date             801784 non-null object\n",
      "reviewer_id      801784 non-null int64\n",
      "reviewer_name    801784 non-null object\n",
      "comments         800995 non-null object\n",
      "dtypes: int64(3), object(3)\n",
      "memory usage: 36.7+ MB\n"
     ]
    }
   ],
   "source": [
    "print(dataset.head())\n",
    "dataset.info()"
   ]
  },
  {
   "cell_type": "code",
   "execution_count": 41,
   "metadata": {
    "_uuid": "e3b4afd559206922747824869b1827516a2cac8c"
   },
   "outputs": [],
   "source": [
    "dataset=dataset.dropna()"
   ]
  },
  {
   "cell_type": "code",
   "execution_count": 42,
   "metadata": {
    "_uuid": "85400a32b6c267d6f58346ece328f1d35f90350b"
   },
   "outputs": [
    {
     "name": "stdout",
     "output_type": "stream",
     "text": [
      "<class 'pandas.core.frame.DataFrame'>\n",
      "Int64Index: 800995 entries, 0 to 801783\n",
      "Data columns (total 3 columns):\n",
      "listing_id     800995 non-null int64\n",
      "reviewer_id    800995 non-null int64\n",
      "comments       800995 non-null object\n",
      "dtypes: int64(2), object(1)\n",
      "memory usage: 24.4+ MB\n"
     ]
    }
   ],
   "source": [
    "dataset=dataset.drop(['id','reviewer_name','date'],axis=1)\n",
    "dataset.info()"
   ]
  },
  {
   "cell_type": "code",
   "execution_count": 43,
   "metadata": {
    "_uuid": "56b75bbcd3502cb854877078ff952cee6a55658d"
   },
   "outputs": [],
   "source": [
    "import re\n",
    "import html.parser\n",
    "def clean_data(textData):\n",
    "    textData = re.sub(r'[?|$|.|!|\\n|;|-|,|:|\\d+]',r'',textData)\n",
    "    textData = html.parser.unescape(textData)\n",
    "    return textData"
   ]
  },
  {
   "cell_type": "code",
   "execution_count": 44,
   "metadata": {
    "_uuid": "4c6e6a5f666eb37b849fe0e86237bcfe9d2f376a"
   },
   "outputs": [],
   "source": [
    "review_comment_data = dataset.iloc[:,-1].values"
   ]
  },
  {
   "cell_type": "code",
   "execution_count": 45,
   "metadata": {
    "_uuid": "a21020f67c5889b235cee52483e1ac29fc577845",
    "scrolled": true
   },
   "outputs": [
    {
     "name": "stdout",
     "output_type": "stream",
     "text": [
      "Review count 800995\n"
     ]
    }
   ],
   "source": [
    "length = review_comment_data.size\n",
    "print(\"Review count\",length)\n",
    "for i in range(0,length):\n",
    "    review_comment_data[i] = clean_data(review_comment_data.item(i))"
   ]
  },
  {
   "cell_type": "code",
   "execution_count": 46,
   "metadata": {
    "_uuid": "3825e954f7b72e3ad29f562c099ca0813535198c"
   },
   "outputs": [
    {
     "name": "stdout",
     "output_type": "stream",
     "text": [
      "[\"Great place Helena was prompt to reply and very helpful Place has a great location short walk away from Times Square and is close to everything and anything you'll need \"\n",
      " 'We had previously stayed at the apartment over New years and loved it - it had a great location and was very clean As our trip was extended we decided to return to the apartment Whilst Helena was very prompt in accepting our request and checking us in we found the flat to be dirty and had been cleaned in a rush since our previous stay with the rubbish kept in a locked closet It was a shame as we had really liked the apartment from our initial stay'\n",
      " 'Helena was a great host and extremely accommodating with our last minute booking The spot was clean and had a great location It was exactly what was needed for two couples I would definitely stay here again'\n",
      " 'Helena was extremely accessible throughout the duration of my stay Initially I called her regarding location verification and possibly extending my stay I was able to get in contact with her on both occasions The apartment appeared as shown in its pictures It was neat and had enough space for me and three other guests who had stayed as well Location was perfect for where we were traveling to in New York that evening '\n",
      " 'Awesome place Looks just as in photos Plenty of room for our group of  - very rare in NYC Helena was a wonderful host - accommodating and great communicator Would recommend this place in a heartbeat ']\n"
     ]
    }
   ],
   "source": [
    "print(review_comment_data[0:5])"
   ]
  },
  {
   "cell_type": "code",
   "execution_count": 47,
   "metadata": {
    "_uuid": "d03c002615ed52fc03029d74c4fda140094cfb17"
   },
   "outputs": [],
   "source": [
    "import nltk"
   ]
  },
  {
   "cell_type": "code",
   "execution_count": 48,
   "metadata": {
    "_uuid": "43d28d7bc60785936786cac9e9e990a4c9f12b69"
   },
   "outputs": [],
   "source": [
    "from nltk.sentiment.vader import SentimentIntensityAnalyzer "
   ]
  },
  {
   "cell_type": "markdown",
   "metadata": {},
   "source": [
    "genrated polarity scores for chunks of data and then merged all the scores to get polarity scores for all the data\n",
    "For Easy interpretation scaled polarity scores"
   ]
  },
  {
   "cell_type": "code",
   "execution_count": 49,
   "metadata": {
    "_uuid": "e246df9d8b7c3a30de8b6db64cffd6885104167f"
   },
   "outputs": [],
   "source": [
    "sentiment_analyzer = SentimentIntensityAnalyzer()\n",
    "positive_rating = []\n",
    "negitive_rating = []\n",
    "n_records=len(review_comment_data)\n",
    "for i in range(100000,200000):\n",
    "     score = sentiment_analyzer.polarity_scores(review_comment_data[i])\n",
    "     positive_rating.append(score['pos']*100)\n",
    "     negitive_rating.append(score['neg']*100)"
   ]
  },
  {
   "cell_type": "code",
   "execution_count": 50,
   "metadata": {
    "_uuid": "b6f5851020a808ba44954c50bf3caae6134d480f"
   },
   "outputs": [
    {
     "name": "stdout",
     "output_type": "stream",
     "text": [
      "100000\n"
     ]
    }
   ],
   "source": [
    "print(len(positive_rating))"
   ]
  },
  {
   "cell_type": "code",
   "execution_count": 51,
   "metadata": {
    "_uuid": "47cecf49218492c0c85c26cb46609a352c89662e"
   },
   "outputs": [],
   "source": [
    "positive_rating=np.array(positive_rating)\n",
    "negitive_rating=np.array(negitive_rating)\n"
   ]
  },
  {
   "cell_type": "code",
   "execution_count": 52,
   "metadata": {
    "_uuid": "5d576a1894bb263fea5aabdda13e20a3c9c1ffd2"
   },
   "outputs": [
    {
     "data": {
      "text/plain": [
       "numpy.ndarray"
      ]
     },
     "execution_count": 52,
     "metadata": {},
     "output_type": "execute_result"
    }
   ],
   "source": [
    "type(positive_rating)"
   ]
  },
  {
   "cell_type": "code",
   "execution_count": 54,
   "metadata": {
    "_uuid": "0b800c2ea5fd091846212ec57c7b23d525ce3fb3"
   },
   "outputs": [
    {
     "data": {
      "text/html": [
       "<div>\n",
       "<style scoped>\n",
       "    .dataframe tbody tr th:only-of-type {\n",
       "        vertical-align: middle;\n",
       "    }\n",
       "\n",
       "    .dataframe tbody tr th {\n",
       "        vertical-align: top;\n",
       "    }\n",
       "\n",
       "    .dataframe thead th {\n",
       "        text-align: right;\n",
       "    }\n",
       "</style>\n",
       "<table border=\"1\" class=\"dataframe\">\n",
       "  <thead>\n",
       "    <tr style=\"text-align: right;\">\n",
       "      <th></th>\n",
       "      <th>Positive</th>\n",
       "      <th>Negative</th>\n",
       "    </tr>\n",
       "  </thead>\n",
       "  <tbody>\n",
       "    <tr>\n",
       "      <th>0</th>\n",
       "      <td>48.1</td>\n",
       "      <td>0.0</td>\n",
       "    </tr>\n",
       "    <tr>\n",
       "      <th>1</th>\n",
       "      <td>23.3</td>\n",
       "      <td>0.0</td>\n",
       "    </tr>\n",
       "    <tr>\n",
       "      <th>2</th>\n",
       "      <td>45.3</td>\n",
       "      <td>0.0</td>\n",
       "    </tr>\n",
       "    <tr>\n",
       "      <th>3</th>\n",
       "      <td>35.1</td>\n",
       "      <td>0.0</td>\n",
       "    </tr>\n",
       "    <tr>\n",
       "      <th>4</th>\n",
       "      <td>60.4</td>\n",
       "      <td>0.0</td>\n",
       "    </tr>\n",
       "  </tbody>\n",
       "</table>\n",
       "</div>"
      ],
      "text/plain": [
       "   Positive  Negative\n",
       "0      48.1       0.0\n",
       "1      23.3       0.0\n",
       "2      45.3       0.0\n",
       "3      35.1       0.0\n",
       "4      60.4       0.0"
      ]
     },
     "execution_count": 54,
     "metadata": {},
     "output_type": "execute_result"
    }
   ],
   "source": [
    "output_df = pd.DataFrame({\n",
    "    'Positive':positive_rating[0:100000],\n",
    "    'Negative':negitive_rating[0:100000]\n",
    "})\n",
    "output_df.to_csv('generated_rating3.csv',index=False)\n",
    "output_df.head()"
   ]
  }
 ],
 "metadata": {
  "kernelspec": {
   "display_name": "Python 3",
   "language": "python",
   "name": "python3"
  },
  "language_info": {
   "codemirror_mode": {
    "name": "ipython",
    "version": 3
   },
   "file_extension": ".py",
   "mimetype": "text/x-python",
   "name": "python",
   "nbconvert_exporter": "python",
   "pygments_lexer": "ipython3",
   "version": "3.6.5"
  }
 },
 "nbformat": 4,
 "nbformat_minor": 1
}
