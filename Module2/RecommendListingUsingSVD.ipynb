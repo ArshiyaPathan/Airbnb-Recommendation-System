{
 "cells": [
  {
   "cell_type": "code",
   "execution_count": 209,
   "metadata": {
    "collapsed": true
   },
   "outputs": [],
   "source": [
    "import numpy as np # linear algebra\n",
    "import pandas as pd # data processing, CSV file I/O (e.g. pd.read_csv)\n",
    "from surprise import BaselineOnly\n",
    "from surprise import Dataset\n",
    "from surprise import Reader\n",
    "from surprise.model_selection import cross_validate\n",
    "from surprise import SVD\n",
    "from surprise import accuracy\n",
    "from surprise.model_selection import KFold\n",
    "from surprise import KNNBasic,KNNWithMeans\n",
    "from surprise import accuracy\n",
    "from surprise.model_selection import PredefinedKFold\n",
    "from surprise.model_selection import train_test_split\n",
    "from collections import defaultdict\n",
    "import io\n",
    "from surprise.model_selection import GridSearchCV\n",
    "import csv\n",
    "import os"
   ]
  },
  {
   "cell_type": "code",
   "execution_count": 213,
   "metadata": {
    "collapsed": true
   },
   "outputs": [],
   "source": [
    "df = pd.read_csv('C:/Users/arshi/Desktop/ArshiyaUSB/Fall2018/256/Project/CMPE256-Airbnb/Module1/output/rating_prediction_full.csv')"
   ]
  },
  {
   "cell_type": "code",
   "execution_count": 214,
   "metadata": {},
   "outputs": [
    {
     "name": "stdout",
     "output_type": "stream",
     "text": [
      "<class 'pandas.core.frame.DataFrame'>\n",
      "RangeIndex: 800995 entries, 0 to 800994\n",
      "Data columns (total 3 columns):\n",
      "listing_id     800995 non-null int64\n",
      "reviewer_id    800995 non-null int64\n",
      "rating         800995 non-null int64\n",
      "dtypes: int64(3)\n",
      "memory usage: 18.3 MB\n"
     ]
    }
   ],
   "source": [
    "df.info()"
   ]
  },
  {
   "cell_type": "code",
   "execution_count": 215,
   "metadata": {},
   "outputs": [
    {
     "data": {
      "text/plain": [
       "listing_id      34839\n",
       "reviewer_id    703051\n",
       "rating              6\n",
       "dtype: int64"
      ]
     },
     "execution_count": 215,
     "metadata": {},
     "output_type": "execute_result"
    }
   ],
   "source": [
    "df.nunique()\n"
   ]
  },
  {
   "cell_type": "markdown",
   "metadata": {},
   "source": [
    "Check count of reviews given by user"
   ]
  },
  {
   "cell_type": "code",
   "execution_count": 216,
   "metadata": {},
   "outputs": [
    {
     "data": {
      "text/plain": [
       "197711       63\n",
       "3973614      52\n",
       "76641978     42\n",
       "339131       40\n",
       "2539165      36\n",
       "101640211    34\n",
       "39274139     33\n",
       "563572       33\n",
       "77978742     32\n",
       "24667379     32\n",
       "84558452     30\n",
       "31402335     30\n",
       "15355355     30\n",
       "26152563     28\n",
       "43382407     28\n",
       "22585386     28\n",
       "45139957     28\n",
       "23545132     27\n",
       "21726142     26\n",
       "14438        26\n",
       "39177007     26\n",
       "76628146     25\n",
       "95940868     24\n",
       "28774703     24\n",
       "320624       24\n",
       "5429871      24\n",
       "109699676    24\n",
       "86126627     23\n",
       "77352080     23\n",
       "17387960     22\n",
       "             ..\n",
       "138197010     1\n",
       "55263049      1\n",
       "86734363      1\n",
       "20978485      1\n",
       "62925619      1\n",
       "31466290      1\n",
       "25180977      1\n",
       "16790320      1\n",
       "24167214      1\n",
       "17100542      1\n",
       "18064194      1\n",
       "50631481      1\n",
       "87983072      1\n",
       "8647496       1\n",
       "140727132     1\n",
       "1272667       1\n",
       "115565402     1\n",
       "55329984      1\n",
       "31683416      1\n",
       "59318762      1\n",
       "18620222      1\n",
       "69407572      1\n",
       "27468626      1\n",
       "39865320      1\n",
       "287600        1\n",
       "1301325       1\n",
       "82039628      1\n",
       "73655114      1\n",
       "66321225      1\n",
       "41258800      1\n",
       "Name: reviewer_id, Length: 703051, dtype: int64"
      ]
     },
     "execution_count": 216,
     "metadata": {},
     "output_type": "execute_result"
    }
   ],
   "source": [
    "df.reviewer_id.value_counts()"
   ]
  },
  {
   "cell_type": "markdown",
   "metadata": {},
   "source": [
    "Check count of reviews every listings got"
   ]
  },
  {
   "cell_type": "code",
   "execution_count": 178,
   "metadata": {},
   "outputs": [
    {
     "data": {
      "text/plain": [
       "903972      489\n",
       "891117      474\n",
       "903947      462\n",
       "21218       394\n",
       "26785       383\n",
       "546383      359\n",
       "31994       352\n",
       "58059       351\n",
       "5178        350\n",
       "8168619     342\n",
       "834190      339\n",
       "467634      336\n",
       "476983      332\n",
       "10101135    328\n",
       "9145202     326\n",
       "27024       322\n",
       "1093570     322\n",
       "557018      320\n",
       "63360       318\n",
       "21220       311\n",
       "847690      308\n",
       "67208       306\n",
       "151199      304\n",
       "999248      298\n",
       "7675781     298\n",
       "4261693     297\n",
       "394474      296\n",
       "2284027     295\n",
       "106363      295\n",
       "1120700     295\n",
       "           ... \n",
       "11548744      1\n",
       "9282691       1\n",
       "16072935      1\n",
       "19589738      1\n",
       "9959880       1\n",
       "6233819       1\n",
       "4838260       1\n",
       "20811403      1\n",
       "13410478      1\n",
       "16381984      1\n",
       "8742625       1\n",
       "2744182       1\n",
       "17517651      1\n",
       "9944013       1\n",
       "20933335      1\n",
       "6688119       1\n",
       "7827616       1\n",
       "2365645       1\n",
       "8014087       1\n",
       "19751573      1\n",
       "20662567      1\n",
       "16441446      1\n",
       "7922002       1\n",
       "19163061      1\n",
       "19117903      1\n",
       "20571653      1\n",
       "8814070       1\n",
       "3323247       1\n",
       "7365429       1\n",
       "10163240      1\n",
       "Name: listing_id, Length: 34839, dtype: int64"
      ]
     },
     "execution_count": 178,
     "metadata": {},
     "output_type": "execute_result"
    }
   ],
   "source": [
    "df.listing_id.value_counts()"
   ]
  },
  {
   "cell_type": "code",
   "execution_count": 217,
   "metadata": {},
   "outputs": [
    {
     "data": {
      "text/plain": [
       "5    324276\n",
       "4    212149\n",
       "3    119025\n",
       "0     81108\n",
       "2     50666\n",
       "1     13771\n",
       "Name: rating, dtype: int64"
      ]
     },
     "execution_count": 217,
     "metadata": {},
     "output_type": "execute_result"
    }
   ],
   "source": [
    "df.rating.value_counts()"
   ]
  },
  {
   "cell_type": "markdown",
   "metadata": {},
   "source": [
    "Removing entries with rating 0."
   ]
  },
  {
   "cell_type": "code",
   "execution_count": 218,
   "metadata": {
    "collapsed": true
   },
   "outputs": [],
   "source": [
    "df = df[df.rating !=0]"
   ]
  },
  {
   "cell_type": "code",
   "execution_count": 219,
   "metadata": {},
   "outputs": [
    {
     "data": {
      "text/plain": [
       "(719887, 3)"
      ]
     },
     "execution_count": 219,
     "metadata": {},
     "output_type": "execute_result"
    }
   ],
   "source": [
    "df.shape"
   ]
  },
  {
   "cell_type": "markdown",
   "metadata": {},
   "source": [
    "As We are going to use collaborative filtering algorithm to predict ratings, we will limit data by considering listings which got atleast 10 reviews and users wo have rated more than 3 listings.\n",
    "if there are m users and n listings, matrix size will be m*n which is very big."
   ]
  },
  {
   "cell_type": "code",
   "execution_count": 220,
   "metadata": {},
   "outputs": [],
   "source": [
    "counts = df['listing_id'].value_counts()\n",
    "#print(counts)\n",
    "df= df[df['listing_id'].isin(counts[counts >= 10].index)]"
   ]
  },
  {
   "cell_type": "code",
   "execution_count": 221,
   "metadata": {},
   "outputs": [
    {
     "data": {
      "text/plain": [
       "(656216, 3)"
      ]
     },
     "execution_count": 221,
     "metadata": {},
     "output_type": "execute_result"
    }
   ],
   "source": [
    "df.shape"
   ]
  },
  {
   "cell_type": "code",
   "execution_count": 222,
   "metadata": {
    "collapsed": true
   },
   "outputs": [],
   "source": [
    "counts1 = df['reviewer_id'].value_counts()\n",
    "#print(counts1)\n",
    "df= df[df['reviewer_id'].isin(counts1[counts1 > 3].index)]"
   ]
  },
  {
   "cell_type": "code",
   "execution_count": 223,
   "metadata": {},
   "outputs": [
    {
     "data": {
      "text/html": [
       "<div>\n",
       "<style>\n",
       "    .dataframe thead tr:only-child th {\n",
       "        text-align: right;\n",
       "    }\n",
       "\n",
       "    .dataframe thead th {\n",
       "        text-align: left;\n",
       "    }\n",
       "\n",
       "    .dataframe tbody tr th {\n",
       "        vertical-align: top;\n",
       "    }\n",
       "</style>\n",
       "<table border=\"1\" class=\"dataframe\">\n",
       "  <thead>\n",
       "    <tr style=\"text-align: right;\">\n",
       "      <th></th>\n",
       "      <th>listing_id</th>\n",
       "      <th>reviewer_id</th>\n",
       "      <th>rating</th>\n",
       "    </tr>\n",
       "  </thead>\n",
       "  <tbody>\n",
       "    <tr>\n",
       "      <th>count</th>\n",
       "      <td>2.307900e+04</td>\n",
       "      <td>2.307900e+04</td>\n",
       "      <td>23079.000000</td>\n",
       "    </tr>\n",
       "    <tr>\n",
       "      <th>mean</th>\n",
       "      <td>7.250671e+06</td>\n",
       "      <td>2.977601e+07</td>\n",
       "      <td>4.327917</td>\n",
       "    </tr>\n",
       "    <tr>\n",
       "      <th>std</th>\n",
       "      <td>5.770643e+06</td>\n",
       "      <td>3.303118e+07</td>\n",
       "      <td>0.902624</td>\n",
       "    </tr>\n",
       "    <tr>\n",
       "      <th>min</th>\n",
       "      <td>2.595000e+03</td>\n",
       "      <td>1.000000e+00</td>\n",
       "      <td>1.000000</td>\n",
       "    </tr>\n",
       "    <tr>\n",
       "      <th>25%</th>\n",
       "      <td>1.710644e+06</td>\n",
       "      <td>3.995723e+06</td>\n",
       "      <td>4.000000</td>\n",
       "    </tr>\n",
       "    <tr>\n",
       "      <th>50%</th>\n",
       "      <td>6.367973e+06</td>\n",
       "      <td>1.736788e+07</td>\n",
       "      <td>5.000000</td>\n",
       "    </tr>\n",
       "    <tr>\n",
       "      <th>75%</th>\n",
       "      <td>1.233312e+07</td>\n",
       "      <td>4.488507e+07</td>\n",
       "      <td>5.000000</td>\n",
       "    </tr>\n",
       "    <tr>\n",
       "      <th>max</th>\n",
       "      <td>2.060036e+07</td>\n",
       "      <td>1.446207e+08</td>\n",
       "      <td>5.000000</td>\n",
       "    </tr>\n",
       "  </tbody>\n",
       "</table>\n",
       "</div>"
      ],
      "text/plain": [
       "         listing_id   reviewer_id        rating\n",
       "count  2.307900e+04  2.307900e+04  23079.000000\n",
       "mean   7.250671e+06  2.977601e+07      4.327917\n",
       "std    5.770643e+06  3.303118e+07      0.902624\n",
       "min    2.595000e+03  1.000000e+00      1.000000\n",
       "25%    1.710644e+06  3.995723e+06      4.000000\n",
       "50%    6.367973e+06  1.736788e+07      5.000000\n",
       "75%    1.233312e+07  4.488507e+07      5.000000\n",
       "max    2.060036e+07  1.446207e+08      5.000000"
      ]
     },
     "execution_count": 223,
     "metadata": {},
     "output_type": "execute_result"
    }
   ],
   "source": [
    "df.describe()"
   ]
  },
  {
   "cell_type": "code",
   "execution_count": 224,
   "metadata": {},
   "outputs": [
    {
     "data": {
      "text/html": [
       "<div>\n",
       "<style>\n",
       "    .dataframe thead tr:only-child th {\n",
       "        text-align: right;\n",
       "    }\n",
       "\n",
       "    .dataframe thead th {\n",
       "        text-align: left;\n",
       "    }\n",
       "\n",
       "    .dataframe tbody tr th {\n",
       "        vertical-align: top;\n",
       "    }\n",
       "</style>\n",
       "<table border=\"1\" class=\"dataframe\">\n",
       "  <thead>\n",
       "    <tr style=\"text-align: right;\">\n",
       "      <th></th>\n",
       "      <th>listing_id</th>\n",
       "      <th>reviewer_id</th>\n",
       "      <th>rating</th>\n",
       "    </tr>\n",
       "  </thead>\n",
       "  <tbody>\n",
       "    <tr>\n",
       "      <th>18</th>\n",
       "      <td>9452127</td>\n",
       "      <td>56075148</td>\n",
       "      <td>5</td>\n",
       "    </tr>\n",
       "    <tr>\n",
       "      <th>76</th>\n",
       "      <td>6078066</td>\n",
       "      <td>51369115</td>\n",
       "      <td>5</td>\n",
       "    </tr>\n",
       "    <tr>\n",
       "      <th>97</th>\n",
       "      <td>6078066</td>\n",
       "      <td>38699430</td>\n",
       "      <td>5</td>\n",
       "    </tr>\n",
       "    <tr>\n",
       "      <th>101</th>\n",
       "      <td>6078066</td>\n",
       "      <td>5273094</td>\n",
       "      <td>5</td>\n",
       "    </tr>\n",
       "    <tr>\n",
       "      <th>146</th>\n",
       "      <td>10120476</td>\n",
       "      <td>5353500</td>\n",
       "      <td>4</td>\n",
       "    </tr>\n",
       "  </tbody>\n",
       "</table>\n",
       "</div>"
      ],
      "text/plain": [
       "     listing_id  reviewer_id  rating\n",
       "18      9452127     56075148       5\n",
       "76      6078066     51369115       5\n",
       "97      6078066     38699430       5\n",
       "101     6078066      5273094       5\n",
       "146    10120476      5353500       4"
      ]
     },
     "execution_count": 224,
     "metadata": {},
     "output_type": "execute_result"
    }
   ],
   "source": [
    "df.head()"
   ]
  },
  {
   "cell_type": "code",
   "execution_count": 225,
   "metadata": {},
   "outputs": [
    {
     "name": "stdout",
     "output_type": "stream",
     "text": [
      "reviewer_id    4320\n",
      "listing_id     8777\n",
      "rating            5\n",
      "dtype: int64\n"
     ]
    }
   ],
   "source": [
    "df1 = df[['reviewer_id','listing_id','rating' ]]\n",
    "df1.head()\n",
    "print(df1.nunique())"
   ]
  },
  {
   "cell_type": "code",
   "execution_count": 189,
   "metadata": {},
   "outputs": [],
   "source": [
    "# A reader is still needed but only the rating_scale param is requiered.\n",
    "reader = Reader(rating_scale=(1, 5))\n",
    "data = Dataset.load_from_df(df1[['reviewer_id', 'listing_id', 'rating']], reader)\n",
    "\n",
    "data1 = data"
   ]
  },
  {
   "cell_type": "code",
   "execution_count": 190,
   "metadata": {},
   "outputs": [
    {
     "name": "stdout",
     "output_type": "stream",
     "text": [
      "Grid Search...\n",
      "best RMSE score\n",
      "0.886203998266\n"
     ]
    }
   ],
   "source": [
    "\n",
    "raw_ratings = data.raw_ratings\n",
    "\n",
    "# shuffle ratings if you want\n",
    "#random.shuffle(raw_ratings)\n",
    "\n",
    "# A = 90% of the data, B = 10% of the data\n",
    "threshold = int(.9 * len(raw_ratings))\n",
    "A_raw_ratings = raw_ratings[:threshold]\n",
    "B_raw_ratings = raw_ratings[threshold:]\n",
    "\n",
    "data.raw_ratings = A_raw_ratings  # data is now the set A\n",
    "\n",
    "# Select your best algo with grid search.\n",
    "print('Grid Search...')\n",
    "\n",
    "param_grid = {'n_epochs': [5, 10], 'lr_all': [0.002, 0.005,0.1],\n",
    "              'reg_all': [0.4, 0.6], 'n_factors':[100,500]}\n",
    "grid_search = GridSearchCV(SVD, param_grid, measures=['rmse','mae'], cv=3)\n",
    "grid_search.fit(data)\n",
    "print('best RMSE score')\n",
    "print(grid_search.best_score['rmse'])"
   ]
  },
  {
   "cell_type": "code",
   "execution_count": 191,
   "metadata": {},
   "outputs": [
    {
     "name": "stdout",
     "output_type": "stream",
     "text": [
      "combination of parameters that gave the best RMSE score\n",
      "{'n_epochs': 10, 'lr_all': 0.005, 'reg_all': 0.4, 'n_factors': 100}\n"
     ]
    }
   ],
   "source": [
    "print('combination of parameters that gave the best RMSE score')\n",
    "print(grid_search.best_params['rmse'])\n",
    "algo = grid_search.best_estimator['rmse']\n"
   ]
  },
  {
   "cell_type": "code",
   "execution_count": 195,
   "metadata": {},
   "outputs": [
    {
     "name": "stdout",
     "output_type": "stream",
     "text": [
      "Biased accuracy on A,   RMSE: 0.7483\n",
      "len(predictions)\n",
      "20771\n"
     ]
    }
   ],
   "source": [
    "# retrain on the whole set A\n",
    "trainset = data.build_full_trainset()\n",
    "algo.fit(trainset)\n",
    "\n",
    "# Compute biased accuracy on A\n",
    "testset= trainset.build_testset()\n",
    "predictions = algo.test(testset)\n",
    "print('Biased accuracy on A,', end='   ')\n",
    "accuracy.rmse(predictions,verbose=True)\n",
    "print('len(predictions)')\n",
    "print(len(predictions))"
   ]
  },
  {
   "cell_type": "code",
   "execution_count": 196,
   "metadata": {},
   "outputs": [
    {
     "name": "stdout",
     "output_type": "stream",
     "text": [
      "Unbiased accuracy on B, RMSE: 0.8505\n",
      "len(predictions)\n",
      "2308\n"
     ]
    }
   ],
   "source": [
    "# Compute unbiased accuracy on B\n",
    "testset = data.construct_testset(B_raw_ratings)  # testset is now the set B\n",
    "predictions = algo.test(testset)\n",
    "print('Unbiased accuracy on B,', end=' ')\n",
    "accuracy.rmse(predictions)\n",
    "print('len(predictions)')\n",
    "print(len(predictions))"
   ]
  },
  {
   "cell_type": "code",
   "execution_count": 197,
   "metadata": {},
   "outputs": [
    {
     "name": "stdout",
     "output_type": "stream",
     "text": [
      "RMSE: 0.8767\n",
      "RMSE: 0.8668\n",
      "RMSE: 0.8983\n",
      "RMSE: 0.8842\n",
      "RMSE: 0.8997\n",
      "RMSE: 0.8707\n",
      "RMSE: 0.8837\n"
     ]
    }
   ],
   "source": [
    "# define a cross-validation iterator\n",
    "kf = KFold(n_splits=7)\n",
    "#algo = SVD(n_factors=500, n_epochs=5, lr_all=0.1)\n",
    "\n",
    "for trainset, testset in kf.split(data1):\n",
    "    # train and test algorithm.\n",
    "    algo.fit(trainset)\n",
    "    \n",
    "    predictions = algo.test(testset)\n",
    "    \n",
    "    # Compute and print Root Mean Squared Error\n",
    "    accuracy.rmse(predictions, verbose=True)\n"
   ]
  },
  {
   "cell_type": "markdown",
   "metadata": {},
   "source": [
    "Build anti test set for predicting top 3 ratings for user"
   ]
  },
  {
   "cell_type": "code",
   "execution_count": 206,
   "metadata": {},
   "outputs": [
    {
     "name": "stdout",
     "output_type": "stream",
     "text": [
      "Accuracy on whole data set,   RMSE: 0.1473\n",
      "len(predictions)\n",
      "34131259\n"
     ]
    }
   ],
   "source": [
    "# retrain on the whole set A\n",
    "trainset = data.build_full_trainset()\n",
    "algo.fit(trainset)\n",
    "\n",
    "testset= trainset.build_anti_testset()\n",
    "predictionsAll = algo.test(testset)\n",
    "print('Accuracy on whole data set,', end='   ')\n",
    "accuracy.rmse(predictionsAll,verbose=True)\n",
    "print('len(predictions)')\n",
    "print(len(predictionsAll))"
   ]
  },
  {
   "cell_type": "code",
   "execution_count": 200,
   "metadata": {},
   "outputs": [
    {
     "name": "stdout",
     "output_type": "stream",
     "text": [
      "getting top 3 recommendations\n"
     ]
    }
   ],
   "source": [
    "def get_top3_recommendations(predictions, topN = 3):\n",
    "     \n",
    "    top_recs = defaultdict(list)\n",
    "    for uid, iid, true_r, est, _ in predictions:\n",
    "        top_recs[uid].append((iid, est))\n",
    "     \n",
    "    for uid, user_ratings in top_recs.items():\n",
    "        user_ratings.sort(key = lambda x: x[1], reverse = True)\n",
    "        top_recs[uid] = user_ratings[:topN]    \n",
    "    return top_recs\n",
    "print('getting top 3 recommendations')\n",
    "\n",
    "\n"
   ]
  },
  {
   "cell_type": "code",
   "execution_count": null,
   "metadata": {},
   "outputs": [],
   "source": [
    "top3_recommendations = get_top3_recommendations(predictionsAll,3)\n",
    "\n",
    "print('Total predictions calculated are %d' % len(predictionsAll))\n"
   ]
  },
  {
   "cell_type": "markdown",
   "metadata": {},
   "source": [
    "Writing top 3 recommendations calculated to csv file"
   ]
  },
  {
   "cell_type": "code",
   "execution_count": 202,
   "metadata": {},
   "outputs": [
    {
     "name": "stdout",
     "output_type": "stream",
     "text": [
      "done\n"
     ]
    }
   ],
   "source": [
    "dfo = pd.DataFrame(columns=['UserId', 'Recommended Listing,Rating'])\n",
    "i=0;\n",
    "for uid, user_ratings in top3_recommendations.items():\n",
    "    #print(uid, top3_recommendations[uid])\n",
    "    row = [uid, top3_recommendations[uid]]\n",
    "    dfo.loc[i] = row\n",
    "    i=i+1\n",
    "dfo.to_csv('submissionF.csv', index = False)\n",
    "\n",
    "print(\"wrote Recommendations for each user in csv file\")     \n",
    "        \n"
   ]
  },
  {
   "cell_type": "code",
   "execution_count": null,
   "metadata": {
    "collapsed": true
   },
   "outputs": [],
   "source": []
  }
 ],
 "metadata": {
  "kernelspec": {
   "display_name": "Python 3",
   "language": "python",
   "name": "python3"
  },
  "language_info": {
   "codemirror_mode": {
    "name": "ipython",
    "version": 3
   },
   "file_extension": ".py",
   "mimetype": "text/x-python",
   "name": "python",
   "nbconvert_exporter": "python",
   "pygments_lexer": "ipython3",
   "version": "3.6.2"
  }
 },
 "nbformat": 4,
 "nbformat_minor": 2
}
