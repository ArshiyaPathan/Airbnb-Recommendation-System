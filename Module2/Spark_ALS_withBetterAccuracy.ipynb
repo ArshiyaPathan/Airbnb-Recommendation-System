{
 "cells": [
  {
   "cell_type": "code",
   "execution_count": 1,
   "metadata": {
    "collapsed": true
   },
   "outputs": [],
   "source": [
    "import os\n",
    "import numpy as np\n",
    "import pandas as pd\n",
    "from pyspark.sql import SparkSession\n",
    "import matplotlib.pyplot as plt\n",
    "import seaborn as sns\n",
    "%matplotlib inline\n",
    "from pyspark.ml.recommendation import ALS\n",
    "from pyspark.ml.tuning import CrossValidator, ParamGridBuilder\n",
    "from pyspark.ml.evaluation import RegressionEvaluator\n",
    "from pyspark.sql import SQLContext\n",
    "\n",
    "import math\n",
    "import itertools\n",
    "from pyspark.sql.functions import udf\n",
    "from pyspark.sql.types import *\n"
   ]
  },
  {
   "cell_type": "code",
   "execution_count": 2,
   "metadata": {
    "collapsed": true
   },
   "outputs": [],
   "source": [
    "df = pd.read_csv('C:/Users/arshi/Desktop/ArshiyaUSB/Fall2018/256/Project/CMPE256-Airbnb/Module1/output/rating_prediction_full.csv')"
   ]
  },
  {
   "cell_type": "code",
   "execution_count": 3,
   "metadata": {},
   "outputs": [
    {
     "name": "stdout",
     "output_type": "stream",
     "text": [
      "<class 'pandas.core.frame.DataFrame'>\n",
      "RangeIndex: 800995 entries, 0 to 800994\n",
      "Data columns (total 3 columns):\n",
      "listing_id     800995 non-null int64\n",
      "reviewer_id    800995 non-null int64\n",
      "rating         800995 non-null int64\n",
      "dtypes: int64(3)\n",
      "memory usage: 18.3 MB\n"
     ]
    }
   ],
   "source": [
    "df.info()"
   ]
  },
  {
   "cell_type": "code",
   "execution_count": 4,
   "metadata": {},
   "outputs": [
    {
     "data": {
      "text/plain": [
       "listing_id      34839\n",
       "reviewer_id    703051\n",
       "rating              6\n",
       "dtype: int64"
      ]
     },
     "execution_count": 4,
     "metadata": {},
     "output_type": "execute_result"
    }
   ],
   "source": [
    "df.nunique()"
   ]
  },
  {
   "cell_type": "code",
   "execution_count": 5,
   "metadata": {},
   "outputs": [
    {
     "data": {
      "text/plain": [
       "197711       63\n",
       "3973614      52\n",
       "76641978     42\n",
       "339131       40\n",
       "2539165      36\n",
       "101640211    34\n",
       "39274139     33\n",
       "563572       33\n",
       "77978742     32\n",
       "24667379     32\n",
       "84558452     30\n",
       "31402335     30\n",
       "15355355     30\n",
       "26152563     28\n",
       "43382407     28\n",
       "22585386     28\n",
       "45139957     28\n",
       "23545132     27\n",
       "21726142     26\n",
       "14438        26\n",
       "39177007     26\n",
       "76628146     25\n",
       "95940868     24\n",
       "28774703     24\n",
       "320624       24\n",
       "5429871      24\n",
       "109699676    24\n",
       "86126627     23\n",
       "77352080     23\n",
       "17387960     22\n",
       "             ..\n",
       "138197010     1\n",
       "55263049      1\n",
       "86734363      1\n",
       "20978485      1\n",
       "62925619      1\n",
       "31466290      1\n",
       "25180977      1\n",
       "16790320      1\n",
       "24167214      1\n",
       "17100542      1\n",
       "18064194      1\n",
       "50631481      1\n",
       "87983072      1\n",
       "8647496       1\n",
       "140727132     1\n",
       "1272667       1\n",
       "115565402     1\n",
       "55329984      1\n",
       "31683416      1\n",
       "59318762      1\n",
       "18620222      1\n",
       "69407572      1\n",
       "27468626      1\n",
       "39865320      1\n",
       "287600        1\n",
       "1301325       1\n",
       "82039628      1\n",
       "73655114      1\n",
       "66321225      1\n",
       "41258800      1\n",
       "Name: reviewer_id, Length: 703051, dtype: int64"
      ]
     },
     "execution_count": 5,
     "metadata": {},
     "output_type": "execute_result"
    }
   ],
   "source": [
    "df.reviewer_id.value_counts()"
   ]
  },
  {
   "cell_type": "code",
   "execution_count": 6,
   "metadata": {},
   "outputs": [
    {
     "data": {
      "text/plain": [
       "903972      489\n",
       "891117      474\n",
       "903947      462\n",
       "21218       394\n",
       "26785       383\n",
       "546383      359\n",
       "31994       352\n",
       "58059       351\n",
       "5178        350\n",
       "8168619     342\n",
       "834190      339\n",
       "467634      336\n",
       "476983      332\n",
       "10101135    328\n",
       "9145202     326\n",
       "27024       322\n",
       "1093570     322\n",
       "557018      320\n",
       "63360       318\n",
       "21220       311\n",
       "847690      308\n",
       "67208       306\n",
       "151199      304\n",
       "999248      298\n",
       "7675781     298\n",
       "4261693     297\n",
       "394474      296\n",
       "2284027     295\n",
       "106363      295\n",
       "1120700     295\n",
       "           ... \n",
       "11548744      1\n",
       "9282691       1\n",
       "16072935      1\n",
       "19589738      1\n",
       "9959880       1\n",
       "6233819       1\n",
       "4838260       1\n",
       "20811403      1\n",
       "13410478      1\n",
       "16381984      1\n",
       "8742625       1\n",
       "2744182       1\n",
       "17517651      1\n",
       "9944013       1\n",
       "20933335      1\n",
       "6688119       1\n",
       "7827616       1\n",
       "2365645       1\n",
       "8014087       1\n",
       "19751573      1\n",
       "20662567      1\n",
       "16441446      1\n",
       "7922002       1\n",
       "19163061      1\n",
       "19117903      1\n",
       "20571653      1\n",
       "8814070       1\n",
       "3323247       1\n",
       "7365429       1\n",
       "10163240      1\n",
       "Name: listing_id, Length: 34839, dtype: int64"
      ]
     },
     "execution_count": 6,
     "metadata": {},
     "output_type": "execute_result"
    }
   ],
   "source": [
    "df.listing_id.value_counts()"
   ]
  },
  {
   "cell_type": "code",
   "execution_count": 7,
   "metadata": {},
   "outputs": [
    {
     "data": {
      "text/plain": [
       "34839"
      ]
     },
     "execution_count": 7,
     "metadata": {},
     "output_type": "execute_result"
    }
   ],
   "source": [
    "df.listing_id.nunique()"
   ]
  },
  {
   "cell_type": "code",
   "execution_count": 8,
   "metadata": {},
   "outputs": [
    {
     "data": {
      "text/plain": [
       "5    324276\n",
       "4    212149\n",
       "3    119025\n",
       "0     81108\n",
       "2     50666\n",
       "1     13771\n",
       "Name: rating, dtype: int64"
      ]
     },
     "execution_count": 8,
     "metadata": {},
     "output_type": "execute_result"
    }
   ],
   "source": [
    "df.rating.value_counts()"
   ]
  },
  {
   "cell_type": "code",
   "execution_count": 9,
   "metadata": {},
   "outputs": [
    {
     "data": {
      "text/plain": [
       "(800995, 3)"
      ]
     },
     "execution_count": 9,
     "metadata": {},
     "output_type": "execute_result"
    }
   ],
   "source": [
    "df.shape"
   ]
  },
  {
   "cell_type": "code",
   "execution_count": 10,
   "metadata": {},
   "outputs": [
    {
     "name": "stdout",
     "output_type": "stream",
     "text": [
      "903972      489\n",
      "891117      474\n",
      "903947      462\n",
      "21218       394\n",
      "26785       383\n",
      "546383      359\n",
      "31994       352\n",
      "58059       351\n",
      "5178        350\n",
      "8168619     342\n",
      "834190      339\n",
      "467634      336\n",
      "476983      332\n",
      "10101135    328\n",
      "9145202     326\n",
      "27024       322\n",
      "1093570     322\n",
      "557018      320\n",
      "63360       318\n",
      "21220       311\n",
      "847690      308\n",
      "67208       306\n",
      "151199      304\n",
      "999248      298\n",
      "7675781     298\n",
      "4261693     297\n",
      "394474      296\n",
      "2284027     295\n",
      "106363      295\n",
      "1120700     295\n",
      "           ... \n",
      "11548744      1\n",
      "9282691       1\n",
      "16072935      1\n",
      "19589738      1\n",
      "9959880       1\n",
      "6233819       1\n",
      "4838260       1\n",
      "20811403      1\n",
      "13410478      1\n",
      "16381984      1\n",
      "8742625       1\n",
      "2744182       1\n",
      "17517651      1\n",
      "9944013       1\n",
      "20933335      1\n",
      "6688119       1\n",
      "7827616       1\n",
      "2365645       1\n",
      "8014087       1\n",
      "19751573      1\n",
      "20662567      1\n",
      "16441446      1\n",
      "7922002       1\n",
      "19163061      1\n",
      "19117903      1\n",
      "20571653      1\n",
      "8814070       1\n",
      "3323247       1\n",
      "7365429       1\n",
      "10163240      1\n",
      "Name: listing_id, Length: 34839, dtype: int64\n"
     ]
    }
   ],
   "source": [
    "counts = df['listing_id'].value_counts()\n",
    "print(counts)\n",
    "df= df[df['listing_id'].isin(counts[counts >= 10].index)]"
   ]
  },
  {
   "cell_type": "code",
   "execution_count": 11,
   "metadata": {},
   "outputs": [
    {
     "data": {
      "text/plain": [
       "(735588, 3)"
      ]
     },
     "execution_count": 11,
     "metadata": {},
     "output_type": "execute_result"
    }
   ],
   "source": [
    "df.shape"
   ]
  },
  {
   "cell_type": "code",
   "execution_count": 12,
   "metadata": {},
   "outputs": [
    {
     "data": {
      "text/html": [
       "<div>\n",
       "<style>\n",
       "    .dataframe thead tr:only-child th {\n",
       "        text-align: right;\n",
       "    }\n",
       "\n",
       "    .dataframe thead th {\n",
       "        text-align: left;\n",
       "    }\n",
       "\n",
       "    .dataframe tbody tr th {\n",
       "        vertical-align: top;\n",
       "    }\n",
       "</style>\n",
       "<table border=\"1\" class=\"dataframe\">\n",
       "  <thead>\n",
       "    <tr style=\"text-align: right;\">\n",
       "      <th></th>\n",
       "      <th>listing_id</th>\n",
       "      <th>reviewer_id</th>\n",
       "      <th>rating</th>\n",
       "    </tr>\n",
       "  </thead>\n",
       "  <tbody>\n",
       "    <tr>\n",
       "      <th>count</th>\n",
       "      <td>7.355880e+05</td>\n",
       "      <td>7.355880e+05</td>\n",
       "      <td>735588.000000</td>\n",
       "    </tr>\n",
       "    <tr>\n",
       "      <th>mean</th>\n",
       "      <td>6.711766e+06</td>\n",
       "      <td>4.153548e+07</td>\n",
       "      <td>3.678351</td>\n",
       "    </tr>\n",
       "    <tr>\n",
       "      <th>std</th>\n",
       "      <td>5.706286e+06</td>\n",
       "      <td>3.844911e+07</td>\n",
       "      <td>1.561335</td>\n",
       "    </tr>\n",
       "    <tr>\n",
       "      <th>min</th>\n",
       "      <td>2.515000e+03</td>\n",
       "      <td>1.000000e+00</td>\n",
       "      <td>0.000000</td>\n",
       "    </tr>\n",
       "    <tr>\n",
       "      <th>25%</th>\n",
       "      <td>1.347847e+06</td>\n",
       "      <td>9.770348e+06</td>\n",
       "      <td>3.000000</td>\n",
       "    </tr>\n",
       "    <tr>\n",
       "      <th>50%</th>\n",
       "      <td>5.211902e+06</td>\n",
       "      <td>2.905638e+07</td>\n",
       "      <td>4.000000</td>\n",
       "    </tr>\n",
       "    <tr>\n",
       "      <th>75%</th>\n",
       "      <td>1.132511e+07</td>\n",
       "      <td>6.340887e+07</td>\n",
       "      <td>5.000000</td>\n",
       "    </tr>\n",
       "    <tr>\n",
       "      <th>max</th>\n",
       "      <td>2.081912e+07</td>\n",
       "      <td>1.526344e+08</td>\n",
       "      <td>5.000000</td>\n",
       "    </tr>\n",
       "  </tbody>\n",
       "</table>\n",
       "</div>"
      ],
      "text/plain": [
       "         listing_id   reviewer_id         rating\n",
       "count  7.355880e+05  7.355880e+05  735588.000000\n",
       "mean   6.711766e+06  4.153548e+07       3.678351\n",
       "std    5.706286e+06  3.844911e+07       1.561335\n",
       "min    2.515000e+03  1.000000e+00       0.000000\n",
       "25%    1.347847e+06  9.770348e+06       3.000000\n",
       "50%    5.211902e+06  2.905638e+07       4.000000\n",
       "75%    1.132511e+07  6.340887e+07       5.000000\n",
       "max    2.081912e+07  1.526344e+08       5.000000"
      ]
     },
     "execution_count": 12,
     "metadata": {},
     "output_type": "execute_result"
    }
   ],
   "source": [
    "df.describe()"
   ]
  },
  {
   "cell_type": "code",
   "execution_count": 13,
   "metadata": {
    "collapsed": true
   },
   "outputs": [],
   "source": [
    "# Calling spark session to register application\n",
    "spark = SparkSession \\\n",
    "    .builder \\\n",
    "    .appName(\"Recom\") \\\n",
    "    .config(\"spark.recom.demo\", \"1\") \\\n",
    "    .getOrCreate()"
   ]
  },
  {
   "cell_type": "code",
   "execution_count": 14,
   "metadata": {
    "collapsed": true
   },
   "outputs": [],
   "source": [
    "\"\"\"\n",
    "Loading and Parsing Dataset\n",
    "\n",
    "\"\"\" \n",
    "ratings = spark.read \\\n",
    "    .format(\"csv\") \\\n",
    "    .option(\"header\", \"true\") \\\n",
    "    .option(\"inferSchema\", \"true\") \\\n",
    "    .load(\"C:/Users/arshi/Desktop/ArshiyaUSB/Fall2018/256/Project/CMPE256-Airbnb/Module1/output/rating_prediction_full.csv\")"
   ]
  },
  {
   "cell_type": "code",
   "execution_count": 15,
   "metadata": {},
   "outputs": [
    {
     "data": {
      "text/plain": [
       "DataFrame[listing_id: int, reviewer_id: int, rating: int]"
      ]
     },
     "execution_count": 15,
     "metadata": {},
     "output_type": "execute_result"
    }
   ],
   "source": [
    "ratings\n"
   ]
  },
  {
   "cell_type": "code",
   "execution_count": 16,
   "metadata": {},
   "outputs": [
    {
     "name": "stdout",
     "output_type": "stream",
     "text": [
      "+-----------+----------+------+\n",
      "|reviewer_id|listing_id|Rating|\n",
      "+-----------+----------+------+\n",
      "|    6279455|   9452127|     5|\n",
      "|   23770684|   9452127|     2|\n",
      "|   29070567|   9452127|     5|\n",
      "|   58381183|   9452127|     3|\n",
      "|   29014080|   9452127|     5|\n",
      "+-----------+----------+------+\n",
      "only showing top 5 rows\n",
      "\n"
     ]
    }
   ],
   "source": [
    "data = ratings.select('reviewer_id','listing_id','Rating')\n",
    "data.show(5)"
   ]
  },
  {
   "cell_type": "code",
   "execution_count": 17,
   "metadata": {},
   "outputs": [
    {
     "name": "stdout",
     "output_type": "stream",
     "text": [
      "root\n",
      " |-- reviewer_id: integer (nullable = true)\n",
      " |-- listing_id: integer (nullable = true)\n",
      " |-- Rating: integer (nullable = true)\n",
      "\n"
     ]
    }
   ],
   "source": [
    "data.printSchema()"
   ]
  },
  {
   "cell_type": "code",
   "execution_count": 18,
   "metadata": {},
   "outputs": [
    {
     "name": "stdout",
     "output_type": "stream",
     "text": [
      "+-------+-------------------+-----------------+------------------+\n",
      "|summary|        reviewer_id|       listing_id|            Rating|\n",
      "+-------+-------------------+-----------------+------------------+\n",
      "|  count|             800995|           800995|            800995|\n",
      "|   mean|4.230238320549816E7|7180466.618531951|3.6731240519603743|\n",
      "| stddev|3.903449681193699E7|5966198.629587632| 1.573049482796602|\n",
      "|    min|                  1|             2515|                 0|\n",
      "|    max|          152696826|         21154538|                 5|\n",
      "+-------+-------------------+-----------------+------------------+\n",
      "\n"
     ]
    }
   ],
   "source": [
    "data.describe().show()"
   ]
  },
  {
   "cell_type": "code",
   "execution_count": 19,
   "metadata": {},
   "outputs": [
    {
     "name": "stdout",
     "output_type": "stream",
     "text": [
      "+----------+-----+\n",
      "|listing_id|count|\n",
      "+----------+-----+\n",
      "|    903972|  489|\n",
      "|    891117|  474|\n",
      "|    903947|  462|\n",
      "|     21218|  394|\n",
      "|     26785|  383|\n",
      "|    546383|  359|\n",
      "|     31994|  352|\n",
      "|     58059|  351|\n",
      "|      5178|  350|\n",
      "|   8168619|  342|\n",
      "|    834190|  339|\n",
      "|    467634|  336|\n",
      "|    476983|  332|\n",
      "|  10101135|  328|\n",
      "|   9145202|  326|\n",
      "|     27024|  322|\n",
      "|   1093570|  322|\n",
      "|    557018|  320|\n",
      "|     63360|  318|\n",
      "|     21220|  311|\n",
      "+----------+-----+\n",
      "only showing top 20 rows\n",
      "\n"
     ]
    }
   ],
   "source": [
    "data.groupBy(\"listing_id\").count().sort(\"count\",ascending=False).show()\n"
   ]
  },
  {
   "cell_type": "markdown",
   "metadata": {},
   "source": [
    "Use the SparkML ALS algorithm to train a model to provide recommendations. The mandatory parameters to the ALS algorithm are the columns that identify the users, the items, and the ratings. \n",
    "Run the fit() method to train the model"
   ]
  },
  {
   "cell_type": "code",
   "execution_count": 20,
   "metadata": {
    "collapsed": true
   },
   "outputs": [],
   "source": [
    "als =  ALS(maxIter=25,rank=12,regParam=0.2,nonnegative=True, userCol=\"reviewer_id\", itemCol=\"listing_id\",ratingCol=\"Rating\",coldStartStrategy=\"drop\")\n",
    "model = als.fit(data)\n"
   ]
  },
  {
   "cell_type": "markdown",
   "metadata": {},
   "source": [
    "Run the transform() method to score the model and output a DataFrame with an additional prediction column that shows the predicted rating"
   ]
  },
  {
   "cell_type": "code",
   "execution_count": 21,
   "metadata": {},
   "outputs": [
    {
     "name": "stdout",
     "output_type": "stream",
     "text": [
      "+-----------+----------+------+----------+\n",
      "|reviewer_id|listing_id|Rating|prediction|\n",
      "+-----------+----------+------+----------+\n",
      "|    1642299|      5803|     3| 2.8548274|\n",
      "|    4139979|      5803|     5| 4.7580457|\n",
      "|    1306432|      5803|     5| 4.7580457|\n",
      "|    8341565|      5803|     4| 3.8064368|\n",
      "|   93182128|      5803|     5| 4.7140603|\n",
      "|    2131239|      5803|     5| 4.7580457|\n",
      "|   21282389|      5803|     5| 4.7580457|\n",
      "|    4213410|      5803|     5| 4.7580457|\n",
      "|     374347|      5803|     5| 4.7580457|\n",
      "|    2293395|      5803|     4| 3.8064368|\n",
      "|     898248|      5803|     5| 4.7580457|\n",
      "|    2191623|      5803|     5| 4.7580457|\n",
      "|      19091|      5803|     5| 4.7580457|\n",
      "|     254645|      5803|     5|  4.731411|\n",
      "|    9834544|      5803|     3| 2.8548274|\n",
      "|    7220467|      5803|     0|       0.0|\n",
      "|      39478|      5803|     5| 4.7580457|\n",
      "|      39478|      5803|     5| 4.7580457|\n",
      "|      42873|      5803|     5| 4.7580457|\n",
      "|     281328|      5803|     5|   4.41099|\n",
      "+-----------+----------+------+----------+\n",
      "only showing top 20 rows\n",
      "\n"
     ]
    }
   ],
   "source": [
    "predictions = model.transform(data)\n",
    "\n",
    "predictions.show()"
   ]
  },
  {
   "cell_type": "markdown",
   "metadata": {},
   "source": [
    "Using the RegressionEvaluator method to compare continuous values with the root mean squared calculation."
   ]
  },
  {
   "cell_type": "code",
   "execution_count": 22,
   "metadata": {},
   "outputs": [
    {
     "name": "stdout",
     "output_type": "stream",
     "text": [
      "RMSE is 0.2531079401293451\n"
     ]
    }
   ],
   "source": [
    "# Evaluate the model by computing RMSE\n",
    "evaluator = RegressionEvaluator(metricName=\"rmse\", labelCol=\"Rating\",predictionCol=\"prediction\")\n",
    "rmse = evaluator.evaluate(predictions)\n",
    "\n",
    "print ('RMSE is %s' % rmse)"
   ]
  },
  {
   "cell_type": "markdown",
   "metadata": {},
   "source": [
    "To accurately evaluate the model,we need to split the data set between a training data set,validation and test set."
   ]
  },
  {
   "cell_type": "markdown",
   "metadata": {},
   "source": [
    "I used cross validator from spark ML, but as it takes forever to tune parameters, I am directly using the best parameters obtained from tuning.\n",
    "Using parameters obtained from parameter tuning, train model and predict ratings on validation data"
   ]
  },
  {
   "cell_type": "code",
   "execution_count": null,
   "metadata": {
    "collapsed": true
   },
   "outputs": [],
   "source": [
    "'''\n",
    "(trainingData, validationData, testData) = data.randomSplit([0.8,0.1,0.1])\n",
    "\n",
    "evaluator = RegressionEvaluator(metricName=\"rmse\", labelCol=\"Rating\", predictionCol=\"prediction\")\n",
    "\n",
    "als =  ALS(userCol=\"reviewer_id\", itemCol=\"listing_id\",ratingCol=\"Rating\")\n",
    "\n",
    "paramGrid = ParamGridBuilder().addGrid(als.rank, [5,12,16]).addGrid(als.maxIter, [20,25]).addGrid(als.regParam, [0.1, 0.2]).addGrid(als.nonnegative, [True,False]).build()\n",
    "\n",
    "crossval = CrossValidator(estimator=als, estimatorParamMaps=paramGrid, evaluator=evaluator, numFolds=3)\n",
    "\n",
    "cvModel = crossval.fit(trainingData)\n",
    "predictions = cvModel.transform(validationData)\n",
    "\n",
    "print \"The root mean squared error for our model is: \" + str(evaluator.evaluate(predictions.na.drop()))\n",
    "'''"
   ]
  },
  {
   "cell_type": "code",
   "execution_count": 25,
   "metadata": {},
   "outputs": [
    {
     "name": "stdout",
     "output_type": "stream",
     "text": [
      "RMSE is 2.006486542689759\n"
     ]
    }
   ],
   "source": [
    "(trainingData, validationData, testData) = data.randomSplit([0.8,0.1,0.1])\n",
    "\n",
    "als = ALS(maxIter=25,rank=12,regParam=0.2,nonnegative=True, userCol=\"reviewer_id\", itemCol=\"listing_id\",ratingCol=\"Rating\",coldStartStrategy=\"drop\")\n",
    "cvModel = als.fit(trainingData)\n",
    "pred = cvModel.transform(validationData)\n",
    "    \n",
    "# Evaluate the model by computing RMSE\n",
    "evaluator = RegressionEvaluator(metricName=\"rmse\", labelCol=\"Rating\",predictionCol=\"prediction\")\n",
    "rmse = evaluator.evaluate(pred)\n",
    "\n",
    "print ('RMSE is %s' % rmse)"
   ]
  },
  {
   "cell_type": "markdown",
   "metadata": {},
   "source": [
    "using k fold cross validation"
   ]
  },
  {
   "cell_type": "code",
   "execution_count": 48,
   "metadata": {
    "collapsed": true
   },
   "outputs": [],
   "source": [
    "from pyspark.sql import SQLContext\n",
    "sc = spark.sparkContext\n",
    "def kfoldALS(data, k=3, userCol=\"reviewer_id\", itemCol=\"listing_id\", ratingCol=\"Rating\", metricName=\"rmse\"):\n",
    "    evaluations = []\n",
    "    weights = [1.0] * k\n",
    "    splits = data.randomSplit(weights)\n",
    "    for i in range(0, k):  \n",
    "        testingSet = splits[i]\n",
    "        trainingSet = spark.createDataFrame(sc.emptyRDD(), data.schema)\n",
    "        for j in range(0, k):\n",
    "            if i == j:\n",
    "                continue\n",
    "            else:\n",
    "                trainingSet = trainingSet.union(splits[j])\n",
    "        als = ALS(maxIter=25,rank=12,regParam=0.2,nonnegative=True, userCol=userCol, itemCol=itemCol, ratingCol=ratingCol,coldStartStrategy=\"drop\")\n",
    "        model = als.fit(trainingSet)\n",
    "        predictions = model.transform(testingSet)\n",
    "        evaluator = RegressionEvaluator(metricName=metricName, labelCol=\"Rating\", predictionCol=\"prediction\")\n",
    "        evaluation = evaluator.evaluate(predictions.na.drop())\n",
    "        print (\"Loop \" + str(i+1) + \": \" + metricName + \" = \" + str(evaluation))\n",
    "        evaluations.append(evaluation)\n",
    "    return sum(evaluations)/float(len(evaluations))"
   ]
  },
  {
   "cell_type": "code",
   "execution_count": 49,
   "metadata": {
    "scrolled": false
   },
   "outputs": [
    {
     "name": "stdout",
     "output_type": "stream",
     "text": [
      "Loop 1: rmse = 2.0297479458878156\n",
      "Loop 2: rmse = 2.0229908198227515\n",
      "Loop 3: rmse = 2.013526223477445\n",
      "Loop 4: rmse = 2.024762763678099\n",
      "RMSE = 2.022756938216528\n"
     ]
    }
   ],
   "source": [
    "print (\"RMSE = \" + str(kfoldALS(data, k=4)))"
   ]
  },
  {
   "cell_type": "code",
   "execution_count": null,
   "metadata": {
    "collapsed": true
   },
   "outputs": [],
   "source": [
    "userRecs = model.recommendForAllUsers(3)"
   ]
  },
  {
   "cell_type": "code",
   "execution_count": 55,
   "metadata": {},
   "outputs": [
    {
     "data": {
      "text/plain": [
       "[Row(listing_id=[16693621, 12432739, 20900984], Rating=[4.76357889175415, 4.466307640075684, 4.2514967918396])]"
      ]
     },
     "execution_count": 55,
     "metadata": {},
     "output_type": "execute_result"
    }
   ],
   "source": [
    "userRecs.where(userRecs.reviewer_id == 53).select(\"recommendations.listing_id\", \"recommendations.Rating\").collect()"
   ]
  },
  {
   "cell_type": "code",
   "execution_count": 58,
   "metadata": {},
   "outputs": [
    {
     "data": {
      "text/plain": [
       "pyspark.sql.dataframe.DataFrame"
      ]
     },
     "execution_count": 58,
     "metadata": {},
     "output_type": "execute_result"
    }
   ],
   "source": [
    "type(userRecs)"
   ]
  },
  {
   "cell_type": "code",
   "execution_count": 33,
   "metadata": {
    "collapsed": true
   },
   "outputs": [],
   "source": [
    "from pyspark.sql.functions import lit\n",
    "\n",
    "def recommendListings(model, user, n):\n",
    "    # Create a Spark DataFrame with the specified user and all the listings listed in the data DataFrame\n",
    "    dataSet = data.select(\"listing_id\").distinct().withColumn(\"reviewer_id\", lit(user))\n",
    "\n",
    "    # Create a Spark DataFrame with the listings that have already been rated by this user\n",
    "    AlreadyRated = data.filter(data.reviewer_id == user).select(\"listing_id\", \"reviewer_id\")\n",
    "\n",
    "    # Apply the recommender system to the data set without the already rated listings to predict ratings\n",
    "    predictions = model.transform(dataSet.subtract(AlreadyRated)).dropna().orderBy(\"prediction\", ascending=False).limit(n).select(\"listing_id\", \"prediction\")\n",
    "\n",
    "    predictions.show(truncate=False)"
   ]
  },
  {
   "cell_type": "code",
   "execution_count": 56,
   "metadata": {},
   "outputs": [
    {
     "name": "stdout",
     "output_type": "stream",
     "text": [
      "+----------+----------+\n",
      "|listing_id|prediction|\n",
      "+----------+----------+\n",
      "|17986966  |4.990666  |\n",
      "|16693621  |4.9841533 |\n",
      "|16425205  |4.8267455 |\n",
      "+----------+----------+\n",
      "\n",
      "Top 3 listings recommended for:1\n"
     ]
    }
   ],
   "source": [
    "user = 1\n",
    "rec = recommendListings(cvModel,user,3)\n",
    "\n",
    "print (\"Top 3 listings recommended for:%d\" % user)\n"
   ]
  },
  {
   "cell_type": "code",
   "execution_count": null,
   "metadata": {
    "collapsed": true
   },
   "outputs": [],
   "source": [
    "temp_path = \"C:/Users/arshi/Desktop/ArshiyaUSB/Fall2018/256/Project/CMPE256-Airbnb/Module2\"\n",
    "als_path = temp_path + \"/als\"\n",
    "als.save(als_path)\n",
    "als2 = ALS.load(als_path)\n"
   ]
  },
  {
   "cell_type": "code",
   "execution_count": null,
   "metadata": {
    "collapsed": true
   },
   "outputs": [],
   "source": [
    "model_path = temp_path + \"/als_model\"\n",
    "model.save(model_path)\n",
    "model2 = ALSModel.load(model_path)\n"
   ]
  }
 ],
 "metadata": {
  "kernelspec": {
   "display_name": "Python 3",
   "language": "python",
   "name": "python3"
  },
  "language_info": {
   "codemirror_mode": {
    "name": "ipython",
    "version": 3
   },
   "file_extension": ".py",
   "mimetype": "text/x-python",
   "name": "python",
   "nbconvert_exporter": "python",
   "pygments_lexer": "ipython3",
   "version": "3.6.2"
  }
 },
 "nbformat": 4,
 "nbformat_minor": 2
}
